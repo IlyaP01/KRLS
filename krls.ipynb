{
 "cells": [
  {
   "cell_type": "code",
   "execution_count": 2,
   "id": "fb113c7f",
   "metadata": {},
   "outputs": [],
   "source": [
    "import numpy as np\n",
    "from matplotlib import pyplot as plt"
   ]
  },
  {
   "cell_type": "code",
   "execution_count": 640,
   "id": "b095c70b",
   "metadata": {},
   "outputs": [],
   "source": [
    "def rbf(x1, x2, gamma=1):\n",
    "    dx = x1 - x2\n",
    "    return np.exp(-gamma*np.vdot(dx.T, dx))"
   ]
  },
  {
   "cell_type": "code",
   "execution_count": 675,
   "id": "05b941d8",
   "metadata": {},
   "outputs": [],
   "source": [
    "from scipy.linalg import block_diag\n",
    "\n",
    "class KRLS:\n",
    "    def clear(self):\n",
    "        self.K = None\n",
    "        self.invK = None\n",
    "        self.alpha = None\n",
    "        self.P = None\n",
    "        self.D = []\n",
    "\n",
    "    def __init__(self, v = 0.1, kernel=rbf):\n",
    "        self.kernel = kernel\n",
    "        self.v = v\n",
    "        self.clear()\n",
    "    \n",
    "    def fit(self, X, y):\n",
    "        if (X.shape[0] != len(y)):\n",
    "            raise ValueError(\"Dimensions error\")\n",
    "        \n",
    "        start = 0\n",
    "        if self.K is None:\n",
    "            self.K = np.array([[self.kernel(X[1], X[1])]])\n",
    "            self.invK = np.array([[1 / self.K[0][0]]])\n",
    "            self.alpha = np.array([y[1] / self.K[0][0]]).reshape(1, 1)\n",
    "            self.P = np.array([[1]])\n",
    "            self.D.append(X[0].reshape(1, X.shape[1]))\n",
    "            start = 1\n",
    "        \n",
    "        for t in range(start, len(y)):\n",
    "            xt = X[t].reshape(1, X.shape[1])\n",
    "            kt = np.array([self.kernel(xi, xt) for xi in self.D]).reshape(len(self.D), 1)\n",
    "            at = self.invK.dot(kt)\n",
    "            delta = self.kernel(xt, xt) - np.vdot(kt.T,at)\n",
    "            if delta > self.v:\n",
    "                self.D.append(xt)\n",
    "                self.invK = 1 / delta * np.block([[delta*self.invK + at.dot(at.T), -at], [-at.T, 1]])\n",
    "                at = np.array([0]*(len(self.D) - 2)+[1]).reshape(len(self.D)-1, 1)\n",
    "                self.P = block_diag(self.P, 1)\n",
    "                tmp = (y[t].squeeze() - np.vdot(kt.T, self.alpha))/delta\n",
    "                self.alpha = np.vstack((self.alpha - tmp*at, tmp))\n",
    "            else:\n",
    "                qt = self.P.dot(at) / ((1 + at.T.dot(self.P).dot(at)).squeeze())\n",
    "                self.P = self.P - self.P.dot(at).dot(at.T).dot(self.P) / ((1 + at.T.dot(self.P).dot(at)).squeeze())\n",
    "                self.alpha += self.invK.dot(qt)*(y[t] - kt.T.dot(self.alpha))\n",
    "        \n",
    "        self.points = [self.D[i][0][0] for i in range(len(self.D))]\n",
    "                \n",
    "    \n",
    "    def predict(self, x):\n",
    "        y = 0\n",
    "        for a, xi in zip(self.alpha, self.D):\n",
    "            y += a * self.kernel(x, xi)\n",
    "        return y"
   ]
  },
  {
   "cell_type": "code",
   "execution_count": 676,
   "id": "20d241d6",
   "metadata": {},
   "outputs": [],
   "source": [
    "n = 50\n",
    "X = np.linspace(-np.pi, np.pi, n).reshape(n, 1)\n",
    "y = np.sin(X)\n",
    "points_x = np.linspace(-np.pi, np.pi, 200)\n",
    "points_y = np.sin(points_x)"
   ]
  },
  {
   "cell_type": "code",
   "execution_count": 677,
   "id": "26012cf4",
   "metadata": {},
   "outputs": [],
   "source": [
    "krls = KRLS()\n",
    "krls.fit(X, y)\n",
    "len(krls.points)"
   ]
  },
  {
   "cell_type": "code",
   "execution_count": 681,
   "id": "262531af",
   "metadata": {},
   "outputs": [
    {
     "data": {
      "image/png": "[encoded data removed]",
      "text/plain": [
       "<Figure size 432x288 with 1 Axes>"
      ]
     },
     "metadata": {
      "needs_background": "light"
     },
     "output_type": "display_data"
    }
   ],
   "source": [
    "plt.plot(points_x, points_y)\n",
    "plt.plot(X, y, '*')\n",
    "plt.plot(krls.points, np.sin(krls.points), '*', color='blue')\n",
    "predict_y = [krls.predict(x)[0] for x in points_x]\n",
    "plt.plot(points_x, [krls.predict(xj)[0] for xj in points_x])\n",
    "plt.grid()"
   ]
  },
  {
   "cell_type": "code",
   "execution_count": null,
   "id": "ef205323",
   "metadata": {},
   "outputs": [],
   "source": []
  }
 ],
 "metadata": {
  "kernelspec": {
   "display_name": "Python 3 (ipykernel)",
   "language": "python",
   "name": "python3"
  },
  "language_info": {
   "codemirror_mode": {
    "name": "ipython",
    "version": 3
   },
   "file_extension": ".py",
   "mimetype": "text/x-python",
   "name": "python",
   "nbconvert_exporter": "python",
   "pygments_lexer": "ipython3",
   "version": "3.9.0"
  }
 },
 "nbformat": 4,
 "nbformat_minor": 5
}
