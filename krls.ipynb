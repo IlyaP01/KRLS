{
 "cells": [
  {
   "cell_type": "code",
   "execution_count": null,
   "id": "fb113c7f",
   "metadata": {},
   "outputs": [],
   "source": [
    "import numpy as np\n",
    "from matplotlib import pyplot as plt\n",
    "from sklearn.datasets import load_boston\n",
    "from sklearn.model_selection import train_test_split\n",
    "from sklearn.preprocessing import StandardScaler\n",
    "from sklearn.metrics import mean_squared_error\n",
    "import warnings\n",
    "warnings.simplefilter(action='ignore', category=FutureWarning)"
   ]
  },
  {
   "cell_type": "code",
   "execution_count": null,
   "id": "b095c70b",
   "metadata": {},
   "outputs": [],
   "source": [
    "def rbf(x1, x2, gamma=0.1):\n",
    "    return np.exp(-gamma*np.linalg.norm(x1-x2)**2)"
   ]
  },
  {
   "cell_type": "markdown",
   "id": "b1dab2a8",
   "metadata": {},
   "source": [
    "## Реализация KRLS"
   ]
  },
  {
   "cell_type": "code",
   "execution_count": null,
   "id": "05b941d8",
   "metadata": {},
   "outputs": [],
   "source": [
    "from scipy.linalg import block_diag\n",
    "\n",
    "class KRLS:\n",
    "    def clear(self):\n",
    "        self.K = None\n",
    "        self.invK = None\n",
    "        self.alpha = None\n",
    "        self.P = None\n",
    "        self.D = []\n",
    "\n",
    "    def __init__(self, v = 0.5, kernel=rbf):\n",
    "        self.kernel = kernel\n",
    "        self.v = v\n",
    "        self.clear()\n",
    "    \n",
    "    def fit(self, X, y):\n",
    "        if (X.shape[0] != len(y)):\n",
    "            raise ValueError(\"Dimensions error\")\n",
    "        \n",
    "        y = y.reshape(len(y), 1)\n",
    "        \n",
    "        start = 0\n",
    "        if self.K is None:\n",
    "            self.K = np.array([[self.kernel(X[0], X[0])]])\n",
    "            self.invK = np.array([[1 / self.K[0][0]]])\n",
    "            self.alpha = np.array([y[0] / self.K[0][0]]).reshape(1, 1)\n",
    "            self.P = np.array([[1]])\n",
    "            self.D.append(X[0].reshape(1, X.shape[1]))\n",
    "            start = 1\n",
    "        \n",
    "        for t in range(start, len(y)):\n",
    "            xt = X[t].reshape(X.shape[1], 1)\n",
    "            kt = np.array([self.kernel(xi, xt) for xi in self.D]).reshape(len(self.D), 1)\n",
    "            at = self.invK.dot(kt)\n",
    "            delta = self.kernel(xt, xt) - np.vdot(kt.T, at)\n",
    "            if delta > self.v:\n",
    "                self.D.append(xt)\n",
    "                self.invK = 1 / delta * np.block([[delta*self.invK + at.dot(at.T), -at], [-at.T, 1]])\n",
    "                at = np.array([0]*(len(self.D) - 2)+[1]).reshape(len(self.D)-1, 1)\n",
    "                self.P = block_diag(self.P, 1)\n",
    "                tmp = 1 / delta * (y[t].squeeze() - np.vdot(kt.T, self.alpha))\n",
    "                self.alpha = np.vstack((self.alpha - tmp*at, tmp))\n",
    "            else:\n",
    "                qt = self.P.dot(at) / (1 + at.T.dot(self.P).dot(at)).squeeze()\n",
    "                self.P = self.P - qt.dot(at.T).dot(self.P)\n",
    "                self.alpha = self.alpha + self.invK.dot(qt)*(y[t].squeeze() - np.vdot(kt.T, self.alpha))\n",
    "        \n",
    "        self.points = [self.D[i][0][0] for i in range(len(self.D))]\n",
    "                \n",
    "    \n",
    "    def predict(self, x):\n",
    "        y = 0\n",
    "        for a, xi in zip(self.alpha, self.D):\n",
    "            y += a * self.kernel(x, xi)\n",
    "        return y"
   ]
  },
  {
   "cell_type": "markdown",
   "id": "5a9bda01",
   "metadata": {},
   "source": [
    "## Точные данные"
   ]
  },
  {
   "cell_type": "code",
   "execution_count": null,
   "id": "20d241d6",
   "metadata": {},
   "outputs": [],
   "source": [
    "n = 100\n",
    "X = np.linspace(-2*np.pi, 2*np.pi, n).reshape(n, 1)\n",
    "y = np.sin(X)\n",
    "points_x = np.linspace(-2*np.pi, 2*np.pi, 250)\n",
    "points_y = np.sin(points_x)"
   ]
  },
  {
   "cell_type": "code",
   "execution_count": null,
   "id": "cbcc6528",
   "metadata": {},
   "outputs": [],
   "source": [
    "vs = np.linspace(0.01, 0.5, 100)\n",
    "gammas = [0.38846153846153847]\n",
    "random_states = [42]\n",
    "min_err = np.inf\n",
    "best = tuple()\n",
    "errs = []\n",
    "num_of_vectors = []\n",
    "for random_state in random_states:\n",
    "    np.random.seed(random_state)\n",
    "    X = np.linspace(-2*np.pi, 2*np.pi, n).reshape(n, 1)\n",
    "    np.random.shuffle(X)\n",
    "    y = np.sin(X)\n",
    "    for v in vs:\n",
    "        for gamma in gammas:\n",
    "            krls = KRLS(v=v, kernel=lambda x1, x2: rbf(x1, x2, gamma))\n",
    "            krls.fit(X, y)\n",
    "            predict_y = [krls.predict(x)[0] for x in points_x]\n",
    "            err = mean_squared_error(points_y, predict_y, squared=False)\n",
    "            errs.append(err)\n",
    "            num_of_vectors.append(len(krls.points))\n",
    "            if err < min_err:\n",
    "                min_err = err\n",
    "                best_pair = (random_state, v, gamma)"
   ]
  },
  {
   "cell_type": "code",
   "execution_count": null,
   "id": "a70f8eac",
   "metadata": {},
   "outputs": [],
   "source": [
    "plt.plot(num_of_vectors, errs)"
   ]
  },
  {
   "cell_type": "code",
   "execution_count": null,
   "id": "6cbd30a5",
   "metadata": {},
   "outputs": [],
   "source": [
    "print(best_pair, min_err)"
   ]
  },
  {
   "cell_type": "markdown",
   "id": "261a3efd",
   "metadata": {},
   "source": [
    "(42, 0.16794871794871796, 0.38846153846153847) 0.9498581724051856"
   ]
  },
  {
   "cell_type": "code",
   "execution_count": null,
   "id": "6d7119fc",
   "metadata": {},
   "outputs": [],
   "source": [
    "#best_pair = (42, 0.16794871794871796, 0.38846153846153847)"
   ]
  },
  {
   "cell_type": "code",
   "execution_count": null,
   "id": "26012cf4",
   "metadata": {},
   "outputs": [],
   "source": [
    "random_state, v, gamma = best_pair\n",
    "np.random.seed(random_state)\n",
    "X = np.linspace(-2*np.pi, 2*np.pi, n).reshape(n, 1)\n",
    "np.random.shuffle(X)\n",
    "y = np.sin(X)\n",
    "krls = KRLS(v=v, kernel=lambda x1, x2: rbf(x1, x2, gamma))\n",
    "krls.fit(X, y)"
   ]
  },
  {
   "cell_type": "code",
   "execution_count": null,
   "id": "262531af",
   "metadata": {},
   "outputs": [],
   "source": [
    "plt.plot(points_x, points_y)\n",
    "plt.plot(X, y, '.')\n",
    "plt.plot(krls.points, np.sin(krls.points), '*', color='blue')\n",
    "predict_y = [krls.predict(x)[0] for x in points_x]\n",
    "plt.plot(points_x, [krls.predict(xj)[0] for xj in points_x])\n",
    "plt.ylim(-1.5, 1.5)\n",
    "plt.grid()"
   ]
  },
  {
   "cell_type": "markdown",
   "id": "08c86b08",
   "metadata": {},
   "source": [
    "## Зашумлённые данные"
   ]
  },
  {
   "cell_type": "code",
   "execution_count": null,
   "id": "af81c1d0",
   "metadata": {},
   "outputs": [],
   "source": [
    "y_noise = np.array([x[0] + np.random.normal(0, 0.2) for x in np.sin(X)]).reshape(len(X), 1)"
   ]
  },
  {
   "cell_type": "code",
   "execution_count": null,
   "id": "aafb3691",
   "metadata": {},
   "outputs": [],
   "source": [
    "vs = np.linspace(0, 1, 20)\n",
    "gammas = np.linspace(0, 1, 20)\n",
    "min_err = np.inf\n",
    "best_pair = tuple()\n",
    "for v in vs:\n",
    "    for gamma in gammas:\n",
    "        krls = KRLS(v=v, kernel=lambda x1, x2: rbf(x1,x2, gamma))\n",
    "        krls.fit(X, y_noise)\n",
    "        predict_y = [krls.predict(x)[0] for x in points_x]\n",
    "        err = np.linalg.norm(predict_y - points_y, ord=2)\n",
    "        if err < min_err:\n",
    "            min_err = err\n",
    "            best_pair = (v, gamma)"
   ]
  },
  {
   "cell_type": "code",
   "execution_count": null,
   "id": "797aab75",
   "metadata": {},
   "outputs": [],
   "source": [
    "v, gamma = best_pair\n",
    "krls = KRLS(v=v, kernel=lambda x1, x2: rbf(x1,x2, gamma))\n",
    "krls.fit(X, y_noise)"
   ]
  },
  {
   "cell_type": "code",
   "execution_count": null,
   "id": "f1933bb7",
   "metadata": {},
   "outputs": [],
   "source": [
    "print(best_pair, min_err)"
   ]
  },
  {
   "cell_type": "code",
   "execution_count": null,
   "id": "583ace47",
   "metadata": {},
   "outputs": [],
   "source": [
    "plt.plot(points_x, points_y, linestyle = '--')\n",
    "plt.plot(X, y_noise, '.')\n",
    "plt.plot(krls.points, np.sin(krls.points), '*', color='blue')\n",
    "predict_y = [krls.predict(x)[0] for x in points_x]\n",
    "plt.plot(points_x, [krls.predict(xj)[0] for xj in points_x])\n",
    "plt.grid()"
   ]
  },
  {
   "cell_type": "markdown",
   "id": "d877cdea",
   "metadata": {},
   "source": [
    "## Real world dataset"
   ]
  },
  {
   "cell_type": "code",
   "execution_count": null,
   "id": "dd76c536",
   "metadata": {},
   "outputs": [],
   "source": [
    "X, y = load_boston(return_X_y=True)\n",
    "scaler = StandardScaler()\n",
    "X = scaler.fit_transform(X, y)\n",
    "X_train, X_test, y_train, y_test = train_test_split(X, y, test_size = 0.2, random_state=5)\n",
    "y_train = y_train.reshape(len(y_train), 1)\n",
    "y_test = y_test.reshape(len(y_test), 1)"
   ]
  },
  {
   "cell_type": "code",
   "execution_count": null,
   "id": "7a03ee05",
   "metadata": {},
   "outputs": [],
   "source": [
    "vs = np.linspace(0.1, 0.5, 30)\n",
    "gammas = np.linspace(0.05, 0.2, 10)"
   ]
  },
  {
   "cell_type": "code",
   "execution_count": null,
   "id": "5e644944",
   "metadata": {},
   "outputs": [],
   "source": [
    "min_err = np.inf\n",
    "best_pair = tuple()\n",
    "i = 0\n",
    "for v in vs:\n",
    "    i += 1\n",
    "    for gamma in gammas:\n",
    "        krls = KRLS(v=v, kernel=lambda x1, x2: rbf(x1,x2, gamma))\n",
    "        krls.fit(X_train, y_train)\n",
    "        y_predict = np.array([krls.predict(x) for x in X_test])\n",
    "        err = mean_squared_error(y_test, y_predict, squared=False)\n",
    "        if err < min_err:\n",
    "            min_err = err\n",
    "            best_pair = (v, gamma)\n",
    "    print(i)"
   ]
  },
  {
   "cell_type": "code",
   "execution_count": null,
   "id": "c34f11bf",
   "metadata": {},
   "outputs": [],
   "source": [
    "print(best_pair, min_err)"
   ]
  },
  {
   "cell_type": "code",
   "execution_count": null,
   "id": "784d3285",
   "metadata": {},
   "outputs": [],
   "source": [
    "v, gamma = best_pair\n",
    "krls = KRLS(v=v, kernel=lambda x1, x2: rbf(x1,x2, gamma))\n",
    "krls.fit(X, y)"
   ]
  },
  {
   "cell_type": "code",
   "execution_count": null,
   "id": "1ffa4ada",
   "metadata": {},
   "outputs": [],
   "source": [
    "len(krls.D)"
   ]
  },
  {
   "cell_type": "code",
   "execution_count": null,
   "id": "9c3f8b4e",
   "metadata": {},
   "outputs": [],
   "source": [
    "np.mean(y)"
   ]
  },
  {
   "cell_type": "code",
   "execution_count": null,
   "id": "09b88950",
   "metadata": {},
   "outputs": [],
   "source": [
    "np.sqrt(np.linalg.norm(y_test - np.mean(y_train))**2 / len(y_test))"
   ]
  },
  {
   "cell_type": "code",
   "execution_count": null,
   "id": "6a1e92a6",
   "metadata": {},
   "outputs": [],
   "source": []
  }
 ],
 "metadata": {
  "kernelspec": {
   "display_name": "Python 3 (ipykernel)",
   "language": "python",
   "name": "python3"
  },
  "language_info": {
   "codemirror_mode": {
    "name": "ipython",
    "version": 3
   },
   "file_extension": ".py",
   "mimetype": "text/x-python",
   "name": "python",
   "nbconvert_exporter": "python",
   "pygments_lexer": "ipython3",
   "version": "3.9.0"
  }
 },
 "nbformat": 4,
 "nbformat_minor": 5
}
